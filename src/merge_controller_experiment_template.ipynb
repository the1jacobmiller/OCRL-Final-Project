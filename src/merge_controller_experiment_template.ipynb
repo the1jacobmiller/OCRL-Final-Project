{
 "cells": [
  {
   "cell_type": "code",
   "execution_count": 1,
   "id": "e7ba4445-e3bb-45c7-8234-58a85462eb05",
   "metadata": {},
   "outputs": [],
   "source": [
    "import os\n",
    "import numpy as np\n",
    "\n",
    "from flow.controllers.base_controller import BaseController\n",
    "from flow.scenarios.merge import MergeScenario, ADDITIONAL_NET_PARAMS\n",
    "from flow.core.params import VehicleParams, NetParams, InitialConfig, TrafficLightParams, InFlows, SumoParams, EnvParams, SumoCarFollowingParams\n",
    "from flow.envs.merge import WaveAttenuationMergePOEnv, ADDITIONAL_ENV_PARAMS as WA_ADDITIONAL_ENV_PARAMS\n",
    "from flow.envs.loop.loop_accel import AccelEnv, ADDITIONAL_ENV_PARAMS as LA_ADDITIONAL_ENV_PARAMS\n",
    "from flow.core.experiment import Experiment"
   ]
  },
  {
   "cell_type": "code",
   "execution_count": 2,
   "id": "394d5d0f-c60e-469d-be78-625651c3d003",
   "metadata": {},
   "outputs": [],
   "source": [
    "class IDMController(BaseController):\n",
    "    def __init__(self, veh_id, v0=30, T=1, a=1, b=1.5, \n",
    "                 delta=4, s0=2, s1=0, time_delay=0.0, \n",
    "                 dt=0.1, noise=0, fail_safe=None, car_following_params=None):\n",
    "        \"\"\"\n",
    "        veh_id: str\n",
    "            unique vehicle identifier\n",
    "        car_following_params: SumoCarFollowingParams\n",
    "            see parent class\n",
    "        v0: float, optional\n",
    "            desirable velocity, in m/s (default: 30)\n",
    "        T: float, optional\n",
    "            safe time headway, in s (default: 1)\n",
    "        b: float, optional\n",
    "            comfortable deceleration, in m/s2 (default: 1.5)\n",
    "        delta: float, optional\n",
    "            acceleration exponent (default: 4)\n",
    "        s0: float, optional\n",
    "            linear jam distance, in m (default: 2)\n",
    "        s1: float, optional\n",
    "            nonlinear jam distance, in m (default: 0)\n",
    "        dt: float, optional\n",
    "            timestep, in s (default: 0.1)\n",
    "        noise: float, optional\n",
    "            std dev of normal perturbation to the acceleration (default: 0)\n",
    "        fail_safe: str, optional\n",
    "            type of flow-imposed failsafe the vehicle should posses, defaults\n",
    "            to no failsafe (None)\n",
    "        \"\"\"\n",
    "        BaseController.__init__(self, veh_id, car_following_params,\n",
    "                                delay=time_delay, fail_safe=fail_safe,\n",
    "                                noise=noise)\n",
    "        self.v0 = v0\n",
    "        self.T = T\n",
    "        self.a = a\n",
    "        self.b = b\n",
    "        self.delta = delta\n",
    "        self.s0 = s0\n",
    "        self.s1 = s1\n",
    "        self.dt = dt\n",
    "\n",
    "    def get_accel(self, env):\n",
    "        v = env.k.vehicle.get_speed(self.veh_id)\n",
    "        lead_id = env.k.vehicle.get_leader(self.veh_id)\n",
    "        h = env.k.vehicle.get_headway(self.veh_id)\n",
    "\n",
    "        # negative headways may be registered by sumo at intersections/\n",
    "        # junctions. Setting them to 0 causes vehicles to not move; therefore,\n",
    "        # we maintain these negative headways to let sumo control the dynamics\n",
    "        # as it sees fit at these points.\n",
    "        if abs(h) < 1e-3:\n",
    "            h = 1e-3\n",
    "\n",
    "        if lead_id is None or lead_id == '':  # no car ahead\n",
    "            s_star = 0\n",
    "        else:\n",
    "            lead_vel = env.k.vehicle.get_speed(lead_id)\n",
    "            s_star = self.s0 + max(\n",
    "                0,\n",
    "                v * self.T + v*(v-lead_vel) / (2*np.sqrt(self.a*self.b)))\n",
    "\n",
    "        return self.a * (1 - (v/self.v0)**self.delta - (s_star/h)**2)"
   ]
  },
  {
   "cell_type": "markdown",
   "id": "12963dc3-853f-49fd-9821-2041db821f0b",
   "metadata": {},
   "source": [
    "## Add Vehicles to the Scenario\n",
    "These vehicle will be controlled by whatever acceleration controller set to."
   ]
  },
  {
   "cell_type": "code",
   "execution_count": 3,
   "id": "08213651-1827-4907-97fa-2b22eadf6d25",
   "metadata": {},
   "outputs": [],
   "source": [
    "name = \"merge_example\"\n",
    "vehicles = VehicleParams()\n",
    "vehicles.add(\"human\",\n",
    "             acceleration_controller=(IDMController, {}),\n",
    "             car_following_params=SumoCarFollowingParams(\n",
    "                 speed_mode=\"obey_safe_speed\"))"
   ]
  },
  {
   "cell_type": "markdown",
   "id": "67866d3e-19f8-4947-ba11-4ea55c7496e2",
   "metadata": {},
   "source": [
    "## Add Inflows to the Scenario"
   ]
  },
  {
   "cell_type": "code",
   "execution_count": 4,
   "id": "9001605b-f10e-43f0-9f20-9ca5fecb1994",
   "metadata": {},
   "outputs": [],
   "source": [
    "inflow = InFlows()\n",
    "\n",
    "# Inflow for highway lanes\n",
    "inflow.add(veh_type=\"human\",\n",
    "            edge=\"inflow_highway\",\n",
    "            vehs_per_hour=10000,\n",
    "            depart_lane=\"random\",\n",
    "            depart_speed=ADDITIONAL_NET_PARAMS['speed_limit'],\n",
    "            color=\"white\")\n",
    "\n",
    "# Inflow for right merge lane\n",
    "inflow.add(veh_type=\"human\",\n",
    "            edge=\"inflow_merge\",\n",
    "            period=2,\n",
    "            depart_lane=0,  # right lane\n",
    "            depart_speed=0,\n",
    "            color=\"green\")\n",
    "\n",
    "# Inflow for left merge lane\n",
    "inflow.add(veh_type=\"human\",\n",
    "           edge=\"inflow_merge\",\n",
    "           probability=0.1,\n",
    "           depart_lane=1,  # left lane\n",
    "           depart_speed=\"random\",\n",
    "           begin=60,  # 1 minute\n",
    "           number=30,\n",
    "           color=\"red\")"
   ]
  },
  {
   "cell_type": "markdown",
   "id": "76951e0f-1ce2-4620-bb9c-5752d3db0396",
   "metadata": {},
   "source": [
    "## Set the Net Params\n",
    "These control the configuration of the highway merge network."
   ]
  },
  {
   "cell_type": "code",
   "execution_count": 5,
   "id": "3a7b3785-142f-4292-a57a-a473c5f35d7d",
   "metadata": {},
   "outputs": [],
   "source": [
    "# Optionally adjust the net params\n",
    "additional_net_params = ADDITIONAL_NET_PARAMS.copy()\n",
    "additional_net_params['merge_length'] = 100 # length of the merge edge\n",
    "additional_net_params['pre_merge_length'] = 200 # length of the highway leading to the merge\n",
    "additional_net_params['post_merge_length'] = 350  # length of the highway past the merge\n",
    "additional_net_params['merge_lanes'] = 2 # number of lanes in the merge\n",
    "additional_net_params['highway_lanes'] = 4 # number of lanes in the highway\n",
    "additional_net_params['speed_limit'] = 30 # max speed limit of the network\n",
    "\n",
    "net_params = NetParams(inflows=inflow,\n",
    "                       additional_params=additional_net_params)"
   ]
  },
  {
   "cell_type": "markdown",
   "id": "09f489fb-f5e9-49ef-b071-95d17726807f",
   "metadata": {},
   "source": [
    "## Set the Initial Configuration Params\n",
    "These parameters that affect the positioning of vehicle in the network at the start of a rollout. By default, vehicles are uniformly distributed in the network."
   ]
  },
  {
   "cell_type": "code",
   "execution_count": 6,
   "id": "951b97ff-a91b-4955-9c1c-5693f9935a50",
   "metadata": {},
   "outputs": [],
   "source": [
    "initial_config = InitialConfig(shuffle=False,\n",
    "                               spacing=\"uniform\",\n",
    "                               min_gap=0,\n",
    "                               perturbation=1,\n",
    "                               x0=0,\n",
    "                               bunching=0,\n",
    "                               lanes_distribution=float(\"inf\"),\n",
    "                               edges_distribution=\"all\",\n",
    "                               additional_params=None)"
   ]
  },
  {
   "cell_type": "markdown",
   "id": "8c396e2f-9bd3-41fd-9f2d-7e62d139900e",
   "metadata": {},
   "source": [
    "## Set the Traffic Light Params\n",
    "This class is used to place traffic lights in the network and describe the state of these traffic lights. In addition, this class supports modifying the states of certain lights via TraCI."
   ]
  },
  {
   "cell_type": "code",
   "execution_count": 7,
   "id": "2d21f39c-4791-4baa-8da8-82b7fe43c679",
   "metadata": {},
   "outputs": [],
   "source": [
    "traffic_lights = TrafficLightParams()"
   ]
  },
  {
   "cell_type": "markdown",
   "id": "70c26989-0074-4d22-b464-14328acb80a7",
   "metadata": {},
   "source": [
    "## Set the Simulation Params\n",
    "These include the simulation time step, whether or not to render the simulation, and where to write the output results."
   ]
  },
  {
   "cell_type": "code",
   "execution_count": 8,
   "id": "34035914-5cf7-4072-85b6-489853eb33ad",
   "metadata": {},
   "outputs": [],
   "source": [
    "sumo_params = SumoParams(sim_step=0.1, render=True, emission_path='data')"
   ]
  },
  {
   "cell_type": "markdown",
   "id": "8bfc05fb-6ac6-45e1-aa30-b969d8a04a94",
   "metadata": {},
   "source": [
    "## Set the Environment Params\n",
    "We can use the WaveAttenuationEnv or the AccelEnv."
   ]
  },
  {
   "cell_type": "code",
   "execution_count": 9,
   "id": "e40ea08e-bf12-4397-9371-e3435de65aa9",
   "metadata": {},
   "outputs": [],
   "source": [
    "# Optionally adjust the env params\n",
    "USE_WA_ENV = True\n",
    "\n",
    "additional_env_params = None\n",
    "if USE_WA_ENV:\n",
    "    additional_env_params = WA_ADDITIONAL_ENV_PARAMS.copy()\n",
    "    additional_env_params['max_accel'] = 3\n",
    "    additional_env_params['max_decel'] = 3\n",
    "    additional_env_params['target_velocity'] = 25\n",
    "    additional_env_params['num_rl'] = 5\n",
    "else:\n",
    "    additional_env_params = LA_ADDITIONAL_ENV_PARAMS.copy()\n",
    "    additional_env_params['max_accel'] = 3\n",
    "    additional_env_params['max_decel'] = 3\n",
    "    additional_env_params['target_velocity'] = 25\n",
    "    additional_env_params['sort_vehicles'] = False\n",
    "\n",
    "env_params = EnvParams(additional_params=additional_env_params,\n",
    "                       horizon=float('inf'),\n",
    "                       warmup_steps=0,\n",
    "                       sims_per_step=1,\n",
    "                       evaluate=False,\n",
    "                       clip_actions=True)"
   ]
  },
  {
   "cell_type": "markdown",
   "id": "4f77561c-9bde-4ada-8438-2e37496a3199",
   "metadata": {},
   "source": [
    "## Run the Experiment"
   ]
  },
  {
   "cell_type": "code",
   "execution_count": 10,
   "id": "40e4431c-b9ad-41b2-85a9-53e39049de4c",
   "metadata": {},
   "outputs": [
    {
     "name": "stdout",
     "output_type": "stream",
     "text": [
      "**********************************************************\n",
      "**********************************************************\n",
      "**********************************************************\n",
      "WARNING: Inflows will cause computational performance to\n",
      "significantly decrease after large number of rollouts. In \n",
      "order to avoid this, set SumoParams(restart_instance=True).\n",
      "**********************************************************\n",
      "**********************************************************\n",
      "**********************************************************\n"
     ]
    },
    {
     "name": "stderr",
     "output_type": "stream",
     "text": [
      "/home/jacob/anaconda3/envs/flow/lib/python3.6/site-packages/numpy/core/fromnumeric.py:2957: RuntimeWarning: Mean of empty slice.\n",
      "  out=out, **kwargs)\n",
      "/home/jacob/anaconda3/envs/flow/lib/python3.6/site-packages/numpy/core/_methods.py:80: RuntimeWarning: invalid value encountered in double_scalars\n",
      "  ret = ret.dtype.type(ret / rcount)\n"
     ]
    },
    {
     "name": "stdout",
     "output_type": "stream",
     "text": [
      "Round 0, return: 1276.2515333291042\n",
      "Average, std return: 1276.2515333291042, 0.0\n",
      "Average, std speed: nan, nan\n"
     ]
    }
   ],
   "source": [
    "# create the scenario object\n",
    "scenario = MergeScenario(name=\"merge_example\",\n",
    "                         vehicles=vehicles,\n",
    "                         net_params=net_params,\n",
    "                         initial_config=initial_config,\n",
    "                         traffic_lights=traffic_lights)\n",
    "\n",
    "# create the environment object\n",
    "env = None\n",
    "if USE_WA_ENV:\n",
    "    env = WaveAttenuationMergePOEnv(env_params, sumo_params, scenario)\n",
    "else:\n",
    "    env = AccelEnv(env_params, sumo_params, scenario)\n",
    "\n",
    "# create the experiment object\n",
    "exp = Experiment(env)\n",
    "\n",
    "# run the experiment for a set number of rollouts / time steps\n",
    "_ = exp.run(1, 3000, convert_to_csv=True)"
   ]
  },
  {
   "cell_type": "code",
   "execution_count": 11,
   "id": "d04fbbaa-10d7-4d93-ae2d-1cdc8d2a30fe",
   "metadata": {},
   "outputs": [
    {
     "name": "stdout",
     "output_type": "stream",
     "text": [
      "data/merge_example_20220302-1202461646240566.8454936-emission.csv\n"
     ]
    }
   ],
   "source": [
    "emission_location = os.path.join(exp.env.sim_params.emission_path, exp.env.scenario.name)\n",
    "print(emission_location + '-emission.csv')"
   ]
  },
  {
   "cell_type": "code",
   "execution_count": null,
   "id": "0cbce2b2-f542-4595-b306-a9e5ae83d859",
   "metadata": {},
   "outputs": [],
   "source": []
  }
 ],
 "metadata": {
  "kernelspec": {
   "display_name": "flow",
   "language": "python",
   "name": "flow"
  },
  "language_info": {
   "codemirror_mode": {
    "name": "ipython",
    "version": 3
   },
   "file_extension": ".py",
   "mimetype": "text/x-python",
   "name": "python",
   "nbconvert_exporter": "python",
   "pygments_lexer": "ipython3",
   "version": "3.6.8"
  }
 },
 "nbformat": 4,
 "nbformat_minor": 5
}
