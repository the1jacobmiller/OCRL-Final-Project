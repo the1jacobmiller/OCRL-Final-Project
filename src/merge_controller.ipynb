{
 "cells": [
  {
   "cell_type": "code",
   "execution_count": null,
   "id": "e7ba4445-e3bb-45c7-8234-58a85462eb05",
   "metadata": {},
   "outputs": [],
   "source": [
    "import os\n",
    "import numpy as np\n",
    "\n",
    "from flow.scenarios.merge import MergeScenario, ADDITIONAL_NET_PARAMS\n",
    "from flow.core.params import VehicleParams, NetParams, InitialConfig, TrafficLightParams, InFlows, SumoParams, EnvParams, SumoCarFollowingParams\n",
    "from flow.envs.merge import WaveAttenuationMergePOEnv, ADDITIONAL_ENV_PARAMS as WA_ADDITIONAL_ENV_PARAMS\n",
    "from flow.envs.loop.loop_accel import AccelEnv, ADDITIONAL_ENV_PARAMS as LA_ADDITIONAL_ENV_PARAMS\n",
    "from flow.core.experiment import Experiment"
   ]
  },
  {
   "cell_type": "code",
   "execution_count": null,
   "id": "394d5d0f-c60e-469d-be78-625651c3d003",
   "metadata": {},
   "outputs": [],
   "source": [
    "%load_ext autoreload\n",
    "%autoreload 2\n",
    "from merge import NashController "
   ]
  },
  {
   "cell_type": "markdown",
   "id": "12963dc3-853f-49fd-9821-2041db821f0b",
   "metadata": {},
   "source": [
    "## Add Vehicles to the Scenario\n",
    "These vehicle will be controlled by whatever acceleration controller set to."
   ]
  },
  {
   "cell_type": "code",
   "execution_count": null,
   "id": "08213651-1827-4907-97fa-2b22eadf6d25",
   "metadata": {},
   "outputs": [],
   "source": [
    "name = \"merge_example\"\n",
    "vehicles = VehicleParams()\n",
    "vehicles.add(\"human\",\n",
    "             acceleration_controller=(NashController, {}),\n",
    "             car_following_params=SumoCarFollowingParams(\n",
    "                 speed_mode=\"aggressive\"))"
   ]
  },
  {
   "cell_type": "markdown",
   "id": "7263b650",
   "metadata": {},
   "source": [
    "## Set the Net Params\n",
    "These control the configuration of the highway merge network."
   ]
  },
  {
   "cell_type": "code",
   "execution_count": null,
   "id": "f0a96d79",
   "metadata": {},
   "outputs": [],
   "source": [
    "# Optionally adjust the net params\n",
    "additional_net_params = ADDITIONAL_NET_PARAMS.copy()\n",
    "additional_net_params['merge_length'] = 50 # length of the merge edge\n",
    "additional_net_params['pre_merge_length'] = 50 # length of the highway leading to the merge\n",
    "additional_net_params['post_merge_length'] = 100  # length of the highway past the merge\n",
    "additional_net_params['merge_lanes'] = 1 # number of lanes in the merge\n",
    "additional_net_params['highway_lanes'] = 1 # number of lanes in the highway\n",
    "additional_net_params['speed_limit'] = 30 # max speed limit of the network"
   ]
  },
  {
   "cell_type": "markdown",
   "id": "67866d3e-19f8-4947-ba11-4ea55c7496e2",
   "metadata": {},
   "source": [
    "## Add Inflows to the Scenario"
   ]
  },
  {
   "cell_type": "code",
   "execution_count": null,
   "id": "9001605b-f10e-43f0-9f20-9ca5fecb1994",
   "metadata": {},
   "outputs": [],
   "source": [
    "inflow = InFlows()\n",
    "\n",
    "# Inflow for highway lanes\n",
    "inflow.add(veh_type=\"human\",\n",
    "           edge=\"inflow_highway\",\n",
    "           probability=1.0, #0.5\n",
    "           begin=1,\n",
    "           number=2, # 100\n",
    "           depart_speed=additional_net_params['speed_limit'],\n",
    "           color=\"red\")\n",
    "\n",
    "# Inflow for merge lane\n",
    "inflow.add(veh_type=\"human\",\n",
    "           edge=\"inflow_merge\",\n",
    "           probability=1.0, #0.1\n",
    "           depart_speed=\"random\",\n",
    "           begin=1, \n",
    "           number=1, # 30\n",
    "           color=\"blue\")\n",
    "\n",
    "net_params = NetParams(inflows=inflow,\n",
    "                       additional_params=additional_net_params)"
   ]
  },
  {
   "cell_type": "markdown",
   "id": "09f489fb-f5e9-49ef-b071-95d17726807f",
   "metadata": {},
   "source": [
    "## Set the Initial Configuration Params\n",
    "These parameters that affect the positioning of vehicle in the network at the start of a rollout. By default, vehicles are uniformly distributed in the network."
   ]
  },
  {
   "cell_type": "code",
   "execution_count": null,
   "id": "951b97ff-a91b-4955-9c1c-5693f9935a50",
   "metadata": {},
   "outputs": [],
   "source": [
    "initial_config = InitialConfig(shuffle=False,\n",
    "                               spacing=\"uniform\",\n",
    "                               min_gap=0,\n",
    "                               perturbation=1,\n",
    "                               x0=0,\n",
    "                               bunching=0,\n",
    "                               lanes_distribution=float(\"inf\"),\n",
    "                               edges_distribution=\"all\",\n",
    "                               additional_params=None)"
   ]
  },
  {
   "cell_type": "markdown",
   "id": "8c396e2f-9bd3-41fd-9f2d-7e62d139900e",
   "metadata": {},
   "source": [
    "## Set the Traffic Light Params\n",
    "This class is used to place traffic lights in the network and describe the state of these traffic lights. In addition, this class supports modifying the states of certain lights via TraCI."
   ]
  },
  {
   "cell_type": "code",
   "execution_count": null,
   "id": "2d21f39c-4791-4baa-8da8-82b7fe43c679",
   "metadata": {},
   "outputs": [],
   "source": [
    "traffic_lights = TrafficLightParams()"
   ]
  },
  {
   "cell_type": "markdown",
   "id": "70c26989-0074-4d22-b464-14328acb80a7",
   "metadata": {},
   "source": [
    "## Set the Simulation Params\n",
    "These include the simulation time step, whether or not to render the simulation, and where to write the output results."
   ]
  },
  {
   "cell_type": "code",
   "execution_count": null,
   "id": "34035914-5cf7-4072-85b6-489853eb33ad",
   "metadata": {},
   "outputs": [],
   "source": [
    "sumo_params = SumoParams(sim_step=0.1, render=True, emission_path='data')"
   ]
  },
  {
   "cell_type": "markdown",
   "id": "8bfc05fb-6ac6-45e1-aa30-b969d8a04a94",
   "metadata": {},
   "source": [
    "## Set the Environment Params\n",
    "We can use the WaveAttenuationEnv or the AccelEnv."
   ]
  },
  {
   "cell_type": "code",
   "execution_count": null,
   "id": "e40ea08e-bf12-4397-9371-e3435de65aa9",
   "metadata": {},
   "outputs": [],
   "source": [
    "# Optionally adjust the env params\n",
    "USE_WA_ENV = False\n",
    "\n",
    "additional_env_params = None\n",
    "if USE_WA_ENV:\n",
    "    additional_env_params = WA_ADDITIONAL_ENV_PARAMS.copy()\n",
    "    additional_env_params['max_accel'] = 3\n",
    "    additional_env_params['max_decel'] = 3\n",
    "    additional_env_params['target_velocity'] = 25\n",
    "    additional_env_params['num_rl'] = 5\n",
    "else:\n",
    "    additional_env_params = LA_ADDITIONAL_ENV_PARAMS.copy()\n",
    "    additional_env_params['max_accel'] = 3\n",
    "    additional_env_params['max_decel'] = 3\n",
    "    additional_env_params['target_velocity'] = 25\n",
    "    additional_env_params['sort_vehicles'] = False\n",
    "\n",
    "env_params = EnvParams(additional_params=additional_env_params,\n",
    "                       horizon=float('inf'),\n",
    "                       warmup_steps=0,\n",
    "                       sims_per_step=1,\n",
    "                       evaluate=False,\n",
    "                       clip_actions=True)"
   ]
  },
  {
   "cell_type": "markdown",
   "id": "4f77561c-9bde-4ada-8438-2e37496a3199",
   "metadata": {},
   "source": [
    "## Run the Experiment"
   ]
  },
  {
   "cell_type": "code",
   "execution_count": null,
   "id": "40e4431c-b9ad-41b2-85a9-53e39049de4c",
   "metadata": {},
   "outputs": [],
   "source": [
    "# create the scenario object\n",
    "scenario = MergeScenario(name=\"merge_example\",\n",
    "                         vehicles=vehicles,\n",
    "                         net_params=net_params,\n",
    "                         initial_config=initial_config,\n",
    "                         traffic_lights=traffic_lights)\n",
    "\n",
    "# create the environment object\n",
    "env = None\n",
    "if USE_WA_ENV:\n",
    "    env = WaveAttenuationMergePOEnv(env_params, sumo_params, scenario)\n",
    "else:\n",
    "    env = AccelEnv(env_params, sumo_params, scenario)\n",
    "\n",
    "# create the experiment object\n",
    "exp = Experiment(env)\n",
    "\n",
    "# run the experiment for a set number of rollouts / time steps\n",
    "_ = exp.run(1, 3000, convert_to_csv=True)"
   ]
  },
  {
   "cell_type": "code",
   "execution_count": null,
   "id": "d04fbbaa-10d7-4d93-ae2d-1cdc8d2a30fe",
   "metadata": {},
   "outputs": [],
   "source": [
    "emission_location = os.path.join(exp.env.sim_params.emission_path, exp.env.scenario.name)\n",
    "print(emission_location + '-emission.csv')"
   ]
  },
  {
   "cell_type": "code",
   "execution_count": null,
   "id": "3a476a64",
   "metadata": {},
   "outputs": [],
   "source": []
  },
  {
   "cell_type": "code",
   "execution_count": null,
   "id": "7d2a2726",
   "metadata": {},
   "outputs": [],
   "source": []
  },
  {
   "cell_type": "code",
   "execution_count": null,
   "id": "344cd586",
   "metadata": {},
   "outputs": [],
   "source": []
  }
 ],
 "metadata": {
  "@webio": {
   "lastCommId": null,
   "lastKernelId": null
  },
  "interpreter": {
   "hash": "01358da6610f5fd5d367ddfa361132c26b335bcfbe40a7ad9b4d92b5db6b1e90"
  },
  "kernelspec": {
   "display_name": "flow",
   "language": "python",
   "name": "flow"
  },
  "language_info": {
   "codemirror_mode": {
    "name": "ipython",
    "version": 3
   },
   "file_extension": ".py",
   "mimetype": "text/x-python",
   "name": "python",
   "nbconvert_exporter": "python",
   "pygments_lexer": "ipython3",
   "version": "3.6.8"
  }
 },
 "nbformat": 4,
 "nbformat_minor": 5
}
